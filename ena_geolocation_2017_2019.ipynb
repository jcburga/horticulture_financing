{
 "cells": [
  {
   "cell_type": "code",
   "execution_count": 18,
   "metadata": {},
   "outputs": [],
   "source": [
    "import os\n",
    "import requests\n",
    "import zipfile\n",
    "import io\n",
    "import pandas as pd"
   ]
  },
  {
   "cell_type": "markdown",
   "metadata": {},
   "source": [
    "# Download, extract, and load .dta file into a DataFrame"
   ]
  },
  {
   "cell_type": "code",
   "execution_count": 19,
   "metadata": {},
   "outputs": [],
   "source": [
    "# Function to download, extract, and load .dta file into a DataFrame\n",
    "def load_dta_from_zip(url, year):\n",
    "    print(f\"Processing dataset for year {year}...\")\n",
    "    response = requests.get(url)\n",
    "    zip_file = zipfile.ZipFile(io.BytesIO(response.content))\n",
    "    zip_file.extractall(f\"extracted_files_{year}\")\n",
    "\n",
    "    # List all extracted files\n",
    "    extracted_files = zip_file.namelist()\n",
    "    print(f\"Extracted files for {year}: {extracted_files}\")\n",
    "\n",
    "    # Identify .dta files\n",
    "    dta_files = [file for file in extracted_files if file.endswith('.dta')]\n",
    "    print(f\".dta files found for {year}: {dta_files}\")\n",
    "\n",
    "    if dta_files:\n",
    "        dta_file_path = os.path.join(f\"extracted_files_{year}\", dta_files[0])\n",
    "        try:\n",
    "            df = pd.read_stata(dta_file_path)\n",
    "            print(f\"DataFrame for {year} loaded successfully.\")\n",
    "            return df\n",
    "        except ValueError as e:\n",
    "            print(f\"Error loading .dta file for {year}: {e}\")\n",
    "            return None\n",
    "    else:\n",
    "        print(f\"No .dta files found for {year}.\")\n",
    "        return None"
   ]
  },
  {
   "cell_type": "markdown",
   "metadata": {},
   "source": [
    "# URLs for datasets"
   ]
  },
  {
   "cell_type": "code",
   "execution_count": 20,
   "metadata": {},
   "outputs": [],
   "source": [
    "# URLs for datasets\n",
    "urls = {\n",
    "    2017: \"https://proyectos.inei.gob.pe/iinei/srienaho/descarga/STATA/615-Modulo1318.zip\",\n",
    "    2018: \"https://proyectos.inei.gob.pe/iinei/srienaho/descarga/STATA/650-Modulo1454.zip\",\n",
    "    2019: \"https://proyectos.inei.gob.pe/iinei/srienaho/descarga/STATA/701-Modulo1533.zip\"\n",
    "}"
   ]
  },
  {
   "cell_type": "markdown",
   "metadata": {},
   "source": [
    "# Loading the datasets"
   ]
  },
  {
   "cell_type": "code",
   "execution_count": 21,
   "metadata": {},
   "outputs": [
    {
     "name": "stdout",
     "output_type": "stream",
     "text": [
      "Processing dataset for year 2017...\n",
      "Extracted files for 2017: ['615-Modulo1318/', '615-Modulo1318/01_CUESTIONARIO_PEQUEÑOS_MEDIANOS_2017.pdf', '615-Modulo1318/02_CUESTIONARIO_ESTRATO_ESPECIAL_2017.pdf', '615-Modulo1318/04_Cap200b.dta', '615-Modulo1318/Diccionario_Datos_04_CAP200B.pdf']\n",
      ".dta files found for 2017: ['615-Modulo1318/04_Cap200b.dta']\n",
      "DataFrame for 2017 loaded successfully.\n",
      "Processing dataset for year 2018...\n",
      "Extracted files for 2018: ['650-Modulo-1454/', '650-Modulo-1454/01_CUESTIONARIO_PEQUEÑOS_MEDIANOS_2018.pdf', '650-Modulo-1454/02_CUESTIONARIO_ESTRATO_ESPECIAL_2018.pdf', '650-Modulo-1454/05_Cap200b.dta', '650-Modulo-1454/Diccionario_Datos_05_Cap200b.pdf']\n",
      ".dta files found for 2018: ['650-Modulo-1454/05_Cap200b.dta']\n",
      "DataFrame for 2018 loaded successfully.\n",
      "Processing dataset for year 2019...\n",
      "Extracted files for 2019: ['701-Modulo1533/', '701-Modulo1533/01_CUESTIONARIO_PEQUEÑOS_MEDIANOS_2019.pdf', '701-Modulo1533/02_CUESTIONARIO_ESTRATO_ESPECIAL_2019.pdf', '701-Modulo1533/05_Cap200b.dta', '701-Modulo1533/Diccionario_Datos_05_Cap200b.pdf']\n",
      ".dta files found for 2019: ['701-Modulo1533/05_Cap200b.dta']\n",
      "DataFrame for 2019 loaded successfully.\n"
     ]
    }
   ],
   "source": [
    "# Load datasets\n",
    "df_2017 = load_dta_from_zip(urls[2017], 2017)\n",
    "df_2018 = load_dta_from_zip(urls[2018], 2018)\n",
    "df_2019 = load_dta_from_zip(urls[2019], 2019)"
   ]
  },
  {
   "cell_type": "markdown",
   "metadata": {},
   "source": [
    "# Column name mapping based on the PDF dictionary"
   ]
  },
  {
   "cell_type": "code",
   "execution_count": 22,
   "metadata": {},
   "outputs": [],
   "source": [
    "# Column mappings for each dataset (adjusted based on the dictionaries provided)\n",
    "column_mapping_2017 = {\n",
    "    \"ANIO\": \"Year\",\n",
    "    \"CCDD\": \"Department Code\",\n",
    "    \"NOMBREDD\": \"Department Name\",\n",
    "    \"CCPP\": \"Province Code\",\n",
    "    \"NOMBREPV\": \"Province Name\",\n",
    "    \"CCDI\": \"District Code\",\n",
    "    \"NOMBREDI\": \"District Name\",\n",
    "    \"CONGLOMERADO\": \"Conglomerate\",\n",
    "    \"NSELUA\": \"Agricultural Unit Selection Number\",\n",
    "    \"UA\": \"Agricultural Unit Number\",\n",
    "    \"ESTRATO\": \"Stratum Type\",\n",
    "    \"RESFIN\": \"Survey Final Result\",\n",
    "    \"REGION\": \"Natural Region\",\n",
    "    \"DOMINIO\": \"Geographic Domain\",\n",
    "    \"FACTOR\": \"Expansion Factor\",\n",
    "    \"CODIGO\": \"Identification Code\",\n",
    "    \"P102_1\": \"Agricultural Activity in Last 12 Months\",\n",
    "    \"P102_2\": \"Livestock Activity in Last 12 Months\",\n",
    "    \"P225\": \"Travel Hours to District Capital\",\n",
    "    \"P225_1\": \"Travel More Than 24 Hours\",\n",
    "    \"P226\": \"Land Produces Less Over 10 Years\",\n",
    "    \"P227\": \"Main Problem for Reduced Soil Productivity\",\n",
    "    \"P228_NOM\": \"Most Important Crop Name\",\n",
    "    \"P228_COD\": \"Most Important Crop Code\",\n",
    "    \"P229_1\": \"Crop Important: Good Price\",\n",
    "    \"P229_2\": \"Crop Important: Adapts to Climate\",\n",
    "    \"P229_3\": \"Crop Important: Low Water Needs\",\n",
    "    \"P229_4\": \"Crop Important: Secure Market\",\n",
    "    \"P229_5\": \"Crop Important: Short Growth Cycle\",\n",
    "    \"P229_6\": \"Crop Important: Animal Feed\",\n",
    "    \"P229_7\": \"Crop Important: Self-Consumption\",\n",
    "    \"P229_8\": \"Crop Important: Other\",\n",
    "    \"P229A_1\": \"Did Not Sell: Self-Consumption\",\n",
    "    \"P229A_2\": \"Did Not Sell: Animal Feed\",\n",
    "    \"P229A_3\": \"Did Not Sell: Low Production\",\n",
    "    \"P229A_4\": \"Did Not Sell: No Transport Access\",\n",
    "    \"P229A_5\": \"Did Not Sell: Used as Seeds\",\n",
    "    \"P229A_6\": \"Did Not Sell: Other\",\n",
    "}\n",
    "\n",
    "column_mapping_2018 = column_mapping_2017.copy()\n",
    "column_mapping_2018.update({\n",
    "    \"P102_3\": \"No Activity in Last 12 Months\",\n",
    "})\n",
    "\n",
    "column_mapping_2019 = column_mapping_2018.copy()"
   ]
  },
  {
   "cell_type": "code",
   "execution_count": 23,
   "metadata": {},
   "outputs": [],
   "source": [
    "# Function to standardize column names\n",
    "def standardize_columns(df, mapping):\n",
    "    \"\"\"\n",
    "    Standardizes column names in the dataset using a unified mapping and retains only columns present in the DataFrame.\n",
    "\n",
    "    Parameters:\n",
    "    df (DataFrame): The dataset to be standardized.\n",
    "    mapping (dict): The column mapping dictionary.\n",
    "\n",
    "    Returns:\n",
    "    DataFrame: The dataset with standardized column names.\n",
    "    \"\"\"\n",
    "    existing_columns = {col: mapping[col] for col in df.columns if col in mapping}\n",
    "    return df.rename(columns=existing_columns, inplace=False)"
   ]
  },
  {
   "cell_type": "code",
   "execution_count": 24,
   "metadata": {},
   "outputs": [],
   "source": [
    "# Standardize all datasets\n",
    "df_2017_standardized = standardize_columns(df_2017, column_mapping_2017)\n",
    "df_2018_standardized = standardize_columns(df_2018, column_mapping_2018)\n",
    "df_2019_standardized = standardize_columns(df_2019, column_mapping_2019)"
   ]
  },
  {
   "cell_type": "code",
   "execution_count": 25,
   "metadata": {},
   "outputs": [],
   "source": [
    "# Align columns across datasets\n",
    "all_columns_ordered = list(column_mapping_2017.values())\n",
    "\n",
    "for col in df_2018_standardized.columns:\n",
    "    if col not in all_columns_ordered:\n",
    "        all_columns_ordered.append(col)\n",
    "\n",
    "for col in df_2019_standardized.columns:\n",
    "    if col not in all_columns_ordered:\n",
    "        all_columns_ordered.append(col)\n",
    "\n",
    "df_2017_aligned = df_2017_standardized.reindex(columns=all_columns_ordered)\n",
    "df_2018_aligned = df_2018_standardized.reindex(columns=all_columns_ordered)\n",
    "df_2019_aligned = df_2019_standardized.reindex(columns=all_columns_ordered)"
   ]
  },
  {
   "cell_type": "code",
   "execution_count": 26,
   "metadata": {},
   "outputs": [],
   "source": [
    "# Add 'Year' column to identify datasets\n",
    "df_2017_aligned['Year'] = 2017\n",
    "df_2018_aligned['Year'] = 2018\n",
    "df_2019_aligned['Year'] = 2019"
   ]
  },
  {
   "cell_type": "code",
   "execution_count": 27,
   "metadata": {},
   "outputs": [],
   "source": [
    "# Combine datasets and add a unique_id column starting at 1\n",
    "combined_df = pd.concat([df_2017_aligned, df_2018_aligned, df_2019_aligned], ignore_index=True)\n",
    "\n",
    "# Add unique_id as the first column\n",
    "combined_df.insert(0, \"unique_id\", range(1, len(combined_df) + 1))\n"
   ]
  },
  {
   "cell_type": "code",
   "execution_count": 28,
   "metadata": {},
   "outputs": [],
   "source": [
    "# Save the combined dataset to a CSV file\n",
    "output_path = r\"C:\\Users\\jcbur\\OneDrive - peruvianbusinesscouncil.com\\csv files\\#14_Producer_Geo_Spatial_Analysis\\ENA Data Dictionaries\\6_geolocation\\ena_geolocation_2017_2019.csv\"\n",
    "combined_df.to_csv(output_path, index=False)"
   ]
  },
  {
   "cell_type": "code",
   "execution_count": 29,
   "metadata": {},
   "outputs": [
    {
     "name": "stdout",
     "output_type": "stream",
     "text": [
      "<class 'pandas.core.frame.DataFrame'>\n",
      "RangeIndex: 78840 entries, 0 to 78839\n",
      "Data columns (total 40 columns):\n",
      " #   Column                                      Non-Null Count  Dtype   \n",
      "---  ------                                      --------------  -----   \n",
      " 0   unique_id                                   78840 non-null  int64   \n",
      " 1   Year                                        78840 non-null  int64   \n",
      " 2   Department Code                             78840 non-null  object  \n",
      " 3   Department Name                             78840 non-null  object  \n",
      " 4   Province Code                               78840 non-null  object  \n",
      " 5   Province Name                               78840 non-null  object  \n",
      " 6   District Code                               78840 non-null  object  \n",
      " 7   District Name                               78840 non-null  object  \n",
      " 8   Conglomerate                                78840 non-null  object  \n",
      " 9   Agricultural Unit Selection Number          78840 non-null  object  \n",
      " 10  Agricultural Unit Number                    78840 non-null  object  \n",
      " 11  Stratum Type                                0 non-null      object  \n",
      " 12  Survey Final Result                         78840 non-null  category\n",
      " 13  Natural Region                              78840 non-null  object  \n",
      " 14  Geographic Domain                           78840 non-null  object  \n",
      " 15  Expansion Factor                            78840 non-null  float64 \n",
      " 16  Identification Code                         78840 non-null  object  \n",
      " 17  Agricultural Activity in Last 12 Months     78840 non-null  object  \n",
      " 18  Livestock Activity in Last 12 Months        78840 non-null  object  \n",
      " 19  Travel Hours to District Capital            78464 non-null  float64 \n",
      " 20  Travel More Than 24 Hours                   78824 non-null  object  \n",
      " 21  Land Produces Less Over 10 Years            78824 non-null  object  \n",
      " 22  Main Problem for Reduced Soil Productivity  58533 non-null  object  \n",
      " 23  Most Important Crop Name                    78840 non-null  object  \n",
      " 24  Most Important Crop Code                    52755 non-null  float64 \n",
      " 25  Crop Important: Good Price                  52755 non-null  category\n",
      " 26  Crop Important: Adapts to Climate           52755 non-null  object  \n",
      " 27  Crop Important: Low Water Needs             52755 non-null  category\n",
      " 28  Crop Important: Secure Market               52755 non-null  category\n",
      " 29  Crop Important: Short Growth Cycle          52755 non-null  category\n",
      " 30  Crop Important: Animal Feed                 52755 non-null  object  \n",
      " 31  Crop Important: Self-Consumption            52755 non-null  category\n",
      " 32  Crop Important: Other                       52755 non-null  category\n",
      " 33  Did Not Sell: Self-Consumption              23158 non-null  category\n",
      " 34  Did Not Sell: Animal Feed                   23158 non-null  category\n",
      " 35  Did Not Sell: Low Production                23158 non-null  category\n",
      " 36  Did Not Sell: No Transport Access           23158 non-null  category\n",
      " 37  Did Not Sell: Used as Seeds                 23158 non-null  category\n",
      " 38  Did Not Sell: Other                         23158 non-null  category\n",
      " 39  OMICAP200_01                                78840 non-null  object  \n",
      "dtypes: category(13), float64(3), int64(2), object(22)\n",
      "memory usage: 17.2+ MB\n",
      "None\n"
     ]
    }
   ],
   "source": [
    "print(combined_df.info())"
   ]
  },
  {
   "cell_type": "code",
   "execution_count": 30,
   "metadata": {},
   "outputs": [],
   "source": [
    "# Create the two subsets based on the desired columns\n",
    "subset1_columns = [\n",
    "    \"unique_id\", \"Year\", \"Department Code\", \"Department Name\", \"Province Code\", \n",
    "    \"Province Name\", \"District Code\", \"District Name\", \"Conglomerate\", \n",
    "    \"Agricultural Unit Selection Number\", \"Agricultural Unit Number\", \n",
    "    \"Stratum Type\", \"Survey Final Result\", \"Natural Region\", \n",
    "    \"Geographic Domain\", \"Expansion Factor\", \"OMICAP200_01\"\n",
    "]\n",
    "\n",
    "geolocation = combined_df[subset1_columns]"
   ]
  },
  {
   "cell_type": "code",
   "execution_count": 31,
   "metadata": {},
   "outputs": [
    {
     "name": "stdout",
     "output_type": "stream",
     "text": [
      "<class 'pandas.core.frame.DataFrame'>\n",
      "RangeIndex: 78840 entries, 0 to 78839\n",
      "Data columns (total 17 columns):\n",
      " #   Column                              Non-Null Count  Dtype   \n",
      "---  ------                              --------------  -----   \n",
      " 0   unique_id                           78840 non-null  int64   \n",
      " 1   Year                                78840 non-null  int64   \n",
      " 2   Department Code                     78840 non-null  object  \n",
      " 3   Department Name                     78840 non-null  object  \n",
      " 4   Province Code                       78840 non-null  object  \n",
      " 5   Province Name                       78840 non-null  object  \n",
      " 6   District Code                       78840 non-null  object  \n",
      " 7   District Name                       78840 non-null  object  \n",
      " 8   Conglomerate                        78840 non-null  object  \n",
      " 9   Agricultural Unit Selection Number  78840 non-null  object  \n",
      " 10  Agricultural Unit Number            78840 non-null  object  \n",
      " 11  Stratum Type                        0 non-null      object  \n",
      " 12  Survey Final Result                 78840 non-null  category\n",
      " 13  Natural Region                      78840 non-null  object  \n",
      " 14  Geographic Domain                   78840 non-null  object  \n",
      " 15  Expansion Factor                    78840 non-null  float64 \n",
      " 16  OMICAP200_01                        78840 non-null  object  \n",
      "dtypes: category(1), float64(1), int64(2), object(13)\n",
      "memory usage: 9.7+ MB\n",
      "None\n"
     ]
    }
   ],
   "source": [
    "print(geolocation.info())"
   ]
  },
  {
   "cell_type": "code",
   "execution_count": 34,
   "metadata": {},
   "outputs": [
    {
     "name": "stdout",
     "output_type": "stream",
     "text": [
      "Feature: unique_id\n",
      "  total_count: 78840\n",
      "  nan_count: 0\n",
      "  dtype: int64\n",
      "  mean: 39420.5\n",
      "  unique_count: 78840\n",
      "  categories: None\n",
      "\n",
      "Feature: Year\n",
      "  total_count: 78840\n",
      "  nan_count: 0\n",
      "  dtype: int64\n",
      "  mean: 2017.9959918822933\n",
      "  unique_count: 3\n",
      "  categories: {2017: 26495, 2019: 26179, 2018: 26166}\n",
      "\n",
      "Feature: Department Code\n",
      "  total_count: 78840\n",
      "  nan_count: 0\n",
      "  dtype: object\n",
      "  mean: None\n",
      "  unique_count: 25\n",
      "  categories: {'02': 3972, '13': 3952, '21': 3891, '20': 3803, '06': 3761, '08': 3713, '01': 3668, '05': 3593, '10': 3499, '03': 3498}\n",
      "\n",
      "Feature: Department Name\n",
      "  total_count: 78840\n",
      "  nan_count: 0\n",
      "  dtype: object\n",
      "  mean: None\n",
      "  unique_count: 29\n",
      "  categories: {'ANCASH': 3972, 'LA LIBERTAD': 3952, 'PUNO': 3891, 'PIURA': 3803, 'CAJAMARCA': 3761, 'CUSCO': 3713, 'AMAZONAS': 3668, 'AYACUCHO': 3593, 'HUANCAVELICA': 3371, 'MOQUEGUA': 3269}\n",
      "\n",
      "Feature: Province Code\n",
      "  total_count: 78840\n",
      "  nan_count: 0\n",
      "  dtype: object\n",
      "  mean: None\n",
      "  unique_count: 20\n",
      "  categories: {'01': 19839, '02': 12165, '03': 9853, '05': 6671, '06': 6408, '04': 5874, '07': 4732, '09': 2994, '10': 2749, '08': 2630}\n",
      "\n",
      "Feature: Province Name\n",
      "  total_count: 78840\n",
      "  nan_count: 0\n",
      "  dtype: object\n",
      "  mean: None\n",
      "  unique_count: 195\n",
      "  categories: {'MARISCAL NIETO': 1692, 'TUMBES': 1613, 'LAMBAYEQUE': 1588, 'GENERAL SANCHEZ CERRO': 1536, 'TACNA': 1515, 'ICA': 1473, 'CORONEL PORTILLO': 1405, 'ANDAHUAYLAS': 1352, 'PASCO': 1350, 'LUYA': 1224}\n",
      "\n",
      "Feature: District Code\n",
      "  total_count: 78840\n",
      "  nan_count: 0\n",
      "  dtype: object\n",
      "  mean: None\n",
      "  unique_count: 36\n",
      "  categories: {'01': 15542, '02': 9551, '03': 7872, '04': 7407, '05': 6894, '06': 6618, '07': 4421, '08': 4282, '09': 3117, '10': 2861}\n",
      "\n",
      "Feature: District Name\n",
      "  total_count: 78840\n",
      "  nan_count: 0\n",
      "  dtype: object\n",
      "  mean: None\n",
      "  unique_count: 1107\n",
      "  categories: {'TACNA': 776, 'PAUCARTAMBO': 561, 'SAN CRISTOBAL': 520, 'HUARMACA': 516, 'IRAZOLA': 482, 'CORRALES': 479, 'TAMBOPATA': 458, 'MORROPE': 455, 'MOYOBAMBA': 440, 'SAN JACINTO': 418}\n",
      "\n",
      "Feature: Conglomerate\n",
      "  total_count: 78840\n",
      "  nan_count: 0\n",
      "  dtype: object\n",
      "  mean: None\n",
      "  unique_count: 2938\n",
      "  categories: {'16756': 52, '16807': 50, '19026': 42, '14529': 42, '14513': 42, '14492': 42, '14383': 42, '19023': 42, '14324': 42, '19025': 42}\n",
      "\n",
      "Feature: Agricultural Unit Selection Number\n",
      "  total_count: 78840\n",
      "  nan_count: 0\n",
      "  dtype: object\n",
      "  mean: None\n",
      "  unique_count: 437\n",
      "  categories: {'00041': 749, '00004': 729, '00006': 728, '00023': 727, '00058': 710, '00030': 707, '00067': 703, '00069': 702, '00010': 701, '00055': 699}\n",
      "\n",
      "Feature: Agricultural Unit Number\n",
      "  total_count: 78840\n",
      "  nan_count: 0\n",
      "  dtype: object\n",
      "  mean: None\n",
      "  unique_count: 14\n",
      "  categories: {'1': 5753, '2': 5747, '3': 5718, '7': 5676, '4': 5669, '5': 5665, '6': 5665, '9': 5627, '10': 5622, '8': 5620}\n",
      "\n",
      "Feature: Stratum Type\n",
      "  total_count: 78840\n",
      "  nan_count: 78840\n",
      "  dtype: object\n",
      "  mean: None\n",
      "  unique_count: 0\n",
      "  categories: {}\n",
      "\n",
      "Feature: Survey Final Result\n",
      "  total_count: 78840\n",
      "  nan_count: 0\n",
      "  dtype: category\n",
      "  mean: None\n",
      "  unique_count: 2\n",
      "  categories: {'Completa': 78784, 'Incompleta': 56}\n",
      "\n",
      "Feature: Natural Region\n",
      "  total_count: 78840\n",
      "  nan_count: 0\n",
      "  dtype: object\n",
      "  mean: None\n",
      "  unique_count: 6\n",
      "  categories: {'Sierra': 31150, 'SIERRA': 15615, 'Selva': 11055, 'Costa': 10140, 'SELVA': 5579, 'COSTA': 5301}\n",
      "\n",
      "Feature: Geographic Domain\n",
      "  total_count: 78840\n",
      "  nan_count: 0\n",
      "  dtype: object\n",
      "  mean: None\n",
      "  unique_count: 8\n",
      "  categories: {'Sierra Centro': 19563, 'Sierra Sur': 16652, 'Selva': 16634, 'Sierra Norte': 10550, 'Costa Norte': 7983, 'Costa Centro': 4835, 'Costa Sur': 2581, 8.0: 42}\n",
      "\n",
      "Feature: Expansion Factor\n",
      "  total_count: 78840\n",
      "  nan_count: 0\n",
      "  dtype: float64\n",
      "  mean: 80.61993819787469\n",
      "  unique_count: 533\n",
      "  categories: None\n",
      "\n",
      "Feature: OMICAP200_01\n",
      "  total_count: 78840\n",
      "  nan_count: 0\n",
      "  dtype: object\n",
      "  mean: None\n",
      "  unique_count: 2\n",
      "  categories: {' ': 78824, '99': 16}\n",
      "\n"
     ]
    }
   ],
   "source": [
    "observations = {}\n",
    "for col in geolocation.columns:\n",
    "    observations[col] = {\n",
    "        'total_count': geolocation[col].size,\n",
    "        'nan_count': geolocation[col].isna().sum(),\n",
    "        'dtype': geolocation[col].dtype,\n",
    "        'mean': geolocation[col].mean() if geolocation[col].dtype in ['int64', 'float64'] else None,\n",
    "        'unique_count': geolocation[col].nunique(),\n",
    "        'categories': geolocation[col].value_counts().head(10).to_dict() if geolocation[col].dtype == 'object' or geolocation[col].nunique() <= 10 else None\n",
    "    }\n",
    "\n",
    "for feature, details in observations.items():\n",
    "    print(f\"Feature: {feature}\")\n",
    "    for key, value in details.items():\n",
    "        print(f\"  {key}: {value}\")\n",
    "    print()"
   ]
  },
  {
   "cell_type": "code",
   "execution_count": 35,
   "metadata": {},
   "outputs": [
    {
     "data": {
      "image/png": "[encoded data removed]",
      "text/plain": [
       "<Figure size 1000x600 with 1 Axes>"
      ]
     },
     "metadata": {},
     "output_type": "display_data"
    }
   ],
   "source": [
    "import matplotlib.pyplot as plt\n",
    "\n",
    "# Assuming `data` is your DataFrame\n",
    "plt.figure(figsize=(10, 6))\n",
    "geolocation.isna().sum().plot(kind='bar', color='orange', edgecolor='black')\n",
    "plt.title('Missing Value Counts by Feature')\n",
    "plt.xlabel('Features')\n",
    "plt.ylabel('Count of Missing Values')\n",
    "plt.xticks(rotation=45)\n",
    "plt.show()\n"
   ]
  }
 ],
 "metadata": {
  "kernelspec": {
   "display_name": "Python 3",
   "language": "python",
   "name": "python3"
  },
  "language_info": {
   "codemirror_mode": {
    "name": "ipython",
    "version": 3
   },
   "file_extension": ".py",
   "mimetype": "text/x-python",
   "name": "python",
   "nbconvert_exporter": "python",
   "pygments_lexer": "ipython3",
   "version": "3.12.3"
  }
 },
 "nbformat": 4,
 "nbformat_minor": 2
}
